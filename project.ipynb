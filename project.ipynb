{
 "cells": [
  {
   "cell_type": "markdown",
   "metadata": {
    "id": "11oSBMUp_hUJ"
   },
   "source": [
    "# Task 1. Linear Regression"
   ]
  },
  {
   "cell_type": "code",
   "execution_count": 2,
   "metadata": {
    "id": "ekTjhO2ntYv_"
   },
   "outputs": [],
   "source": [
    "# importing necessary libraries \n",
    "import numpy as np\n",
    "import matplotlib.pyplot as plt"
   ]
  },
  {
   "cell_type": "markdown",
   "metadata": {
    "id": "hlIpc7iq3vE_"
   },
   "source": [
    "Then we should create a function generating random 100 points, so that we'll be able to run Pocket and Linear Regression algortihms to get the weights."
   ]
  },
  {
   "cell_type": "code",
   "execution_count": 3,
   "metadata": {
    "id": "j4Dcw09XAJyl"
   },
   "outputs": [],
   "source": [
    "def data_set(size):\n",
    "  d = 2\n",
    "  # initializing  with proper sizes \n",
    "  x = np.random.uniform(-1,1,(size,d))*10\n",
    "  w = np.random.randint(1,10,d)\n",
    "  b = np.random.randint(1,10)\n",
    "  y = np.zeros(20)\n",
    "\n",
    "  h = x.dot(w) + b\n",
    "  sign = 1*(h>0)\n",
    "  ran = np.random.randint(size,size=10)\n",
    "\n",
    "  for i in ran:\n",
    "    if sign[i] == 1:\n",
    "      sign[i] = 0\n",
    "    else:\n",
    "      sign[i] = 1\n",
    "  y = sign\n",
    "\n",
    "  return x,y,w,b"
   ]
  },
  {
   "cell_type": "markdown",
   "metadata": {
    "id": "WKXXD19n4KLr"
   },
   "source": [
    "In order to test the performance of both algorithms, we find the errors, which is a minimization square root error:"
   ]
  },
  {
   "cell_type": "code",
   "execution_count": 4,
   "metadata": {
    "id": "kB-glZFMVjPJ"
   },
   "outputs": [],
   "source": [
    "def error(x,y,w):\n",
    "  err = 0\n",
    "\n",
    "  for j in range(len(x)):\n",
    "    y_prev = np.dot(x[j],w)\n",
    "    if (y_prev <= 0 and y[j] == 1):\n",
    "      err += 1\n",
    "    elif (y_prev > 0 and y[j] == -1):\n",
    "      err += 1\n",
    "\n",
    "  n = x.size\n",
    "  err_r = err/n\n",
    "  \n",
    "  return err_r"
   ]
  },
  {
   "cell_type": "code",
   "execution_count": 5,
   "metadata": {
    "id": "FCMwyhLLD0k5"
   },
   "outputs": [],
   "source": [
    "def pocket_alg(x, y, w, max_iter):\n",
    "  e = []\n",
    "  new = 0\n",
    "  upd_n = []\n",
    "  er = 0\n",
    "\n",
    "  for i in range(max_iter):\n",
    "    # created lists to save information about predicted and wrong y's\n",
    "    y_predict = []\n",
    "    y_wrong = []\n",
    "\n",
    "    for j in range(len(x)):\n",
    "      if np.dot(x[j],w)>0:\n",
    "        y_predict.append(1)\n",
    "      else:\n",
    "        y_predict.append(0)\n",
    "      if y_predict[j] != y[j]:\n",
    "        y_wrong.append(j)\n",
    "\n",
    "    ran_wrong = np.random.randint(len(y_wrong))\n",
    "    upd_weight = w + (y[ran_wrong]*y_predict[ran_wrong])*x[ran_wrong]\n",
    "    # after choosing one of the wrong, updated the weight\n",
    "    E_old = error(x,y,w)\n",
    "    E_new = error(x,y,upd_weight)\n",
    "\n",
    "    if E_old > E_new:\n",
    "      # in case of the new error being less than the old one, we updated the weights\n",
    "      e.append(E_new)\n",
    "      upd_n.append(new)\n",
    "      w = np.copy(upd_weight)\n",
    "      new += 1\n",
    "      er = E_new\n",
    "\n",
    "  return w\n"
   ]
  },
  {
   "cell_type": "code",
   "execution_count": 6,
   "metadata": {
    "id": "4gAIFnSFERNP"
   },
   "outputs": [],
   "source": [
    "def linear_regression(x,y):\n",
    "  yn = y.reshape(len(y),1)\n",
    "  inv_mat = np.linalg.inv(np.dot(x.T,x))\n",
    "  x_inv = np.dot(inv_mat,x.T)\n",
    "  w_lin = np.dot(x_inv,yn)\n",
    "  return w_lin"
   ]
  },
  {
   "cell_type": "code",
   "execution_count": 7,
   "metadata": {
    "id": "MA8p_DzpFWsn"
   },
   "outputs": [],
   "source": [
    "# 1 sub-task: starting from data set generation of 100 randoms\n",
    "x_tr, y_tr, x_test, y_test = data_set(100)"
   ]
  },
  {
   "cell_type": "code",
   "execution_count": 8,
   "metadata": {
    "id": "w9Qz1ttmF8vA"
   },
   "outputs": [],
   "source": [
    "# 2 sub-task: running pocket algorith on the training set of 1000\n",
    "T = 1000\n",
    "w = np.zeros(2)\n",
    "w_pocket = pocket_alg(x_tr,y_tr,w,T)"
   ]
  },
  {
   "cell_type": "code",
   "execution_count": 9,
   "metadata": {
    "colab": {
     "base_uri": "https://localhost:8080/"
    },
    "id": "MaStx3m4jPzi",
    "outputId": "1a3683ab-3764-4c82-f418-ee4b2ac1aba5"
   },
   "outputs": [
    {
     "data": {
      "text/plain": [
       "array([[0.0238632 ],\n",
       "       [0.05555303]])"
      ]
     },
     "execution_count": 9,
     "metadata": {},
     "output_type": "execute_result"
    }
   ],
   "source": [
    "# 3 sub-task: running the linear regression algorithm to get w_lin\n",
    "w_lin = linear_regression(x_tr, y_tr)\n",
    "w_lin"
   ]
  },
  {
   "cell_type": "code",
   "execution_count": 10,
   "metadata": {
    "colab": {
     "base_uri": "https://localhost:8080/"
    },
    "id": "pohc4FcWkEGf",
    "outputId": "cb3d61f3-f594-4c88-8c57-1989accba5ab"
   },
   "outputs": [
    {
     "data": {
      "text/plain": [
       "0.2835"
      ]
     },
     "execution_count": 10,
     "metadata": {},
     "output_type": "execute_result"
    }
   ],
   "source": [
    "# 3 sub-task estimating the performance to get E_pocket\n",
    "x_test1, y_test1, w_test1, b_test1 = data_set(1000)\n",
    "\n",
    "E_pocket=error(x_test1, y_test1, w_pocket)\n",
    "E_pocket"
   ]
  },
  {
   "cell_type": "code",
   "execution_count": 11,
   "metadata": {
    "colab": {
     "base_uri": "https://localhost:8080/"
    },
    "id": "QzV90DSlmo9t",
    "outputId": "419228a2-daba-4554-ec1b-ad396c3366e6"
   },
   "outputs": [
    {
     "data": {
      "text/plain": [
       "0.0565"
      ]
     },
     "execution_count": 11,
     "metadata": {},
     "output_type": "execute_result"
    }
   ],
   "source": [
    "# 3 sub-task estimating the performance to get E_lin\n",
    "E_lin = error(x_test1, y_test1, w_lin)\n",
    "E_lin"
   ]
  },
  {
   "cell_type": "code",
   "execution_count": 12,
   "metadata": {
    "colab": {
     "base_uri": "https://localhost:8080/",
     "height": 265
    },
    "id": "p96R-1u1mzqH",
    "outputId": "e0afcba7-aa66-4357-ed72-f930210dbbe6"
   },
   "outputs": [
    {
     "data": {
      "image/png": "[encoded data removed]",
      "text/plain": [
       "<Figure size 432x288 with 1 Axes>"
      ]
     },
     "metadata": {
      "needs_background": "light"
     },
     "output_type": "display_data"
    }
   ],
   "source": [
    "x_fresh, y_fresh, w_fresh, b_fresh = data_set(1000)\n",
    "\n",
    "# 4 sub-task repeating the experiment with fresh data sets\n",
    "E_lin_fresh= np.zeros(100)\n",
    "E_pocket_fresh= np.zeros(100)\n",
    "n = np.zeros(100)\n",
    "w_new = np.zeros(3)\n",
    "\n",
    "for i in range (100):\n",
    "    \n",
    "    E_pocket_fresh[i]=error(x_fresh, y_fresh, w_pocket)\n",
    "    E_lin_fresh[i]=error(x_fresh, y_test1, w_lin)\n",
    "    \n",
    "    n[i]=i\n",
    "\n",
    "# plotting versus graph as a scatter plot\n",
    "plt.scatter(n, E_pocket_fresh*100, label = 'Pocket Algorithm', color = 'red')\n",
    "plt.scatter(n, E_lin_fresh*100, label = \"Linear Regression\", color = 'blue')\n",
    "plt.legend()\n",
    "plt.show()"
   ]
  },
  {
   "cell_type": "markdown",
   "metadata": {
    "id": "Qk3qANVO0tox"
   },
   "source": [
    "Although both algorithms gave us small errors, here we can observe that Pocket algorithm is better than Linear regression algorithm; however, Linear regression is faster than Pocket. "
   ]
  },
  {
   "cell_type": "markdown",
   "id": "bdd8e491",
   "metadata": {},
   "source": [
    "# Task 2. Logistic regression"
   ]
  },
  {
   "cell_type": "markdown",
   "id": "4f9d235b",
   "metadata": {},
   "source": [
    "First we import all necessary libraries"
   ]
  },
  {
   "cell_type": "code",
   "execution_count": null,
   "id": "42451e97",
   "metadata": {},
   "outputs": [],
   "source": [
    "from sklearn.datasets import load_iris\n",
    "import numpy as np\n",
    "import matplotlib.pyplot as plt\n",
    "import random"
   ]
  },
  {
   "cell_type": "markdown",
   "id": "a38e1902",
   "metadata": {},
   "source": [
    "The next step is to import our iris dataset to train our logistic regression and find in and out errors of our algorithm."
   ]
  },
  {
   "cell_type": "code",
   "execution_count": null,
   "id": "2680b1d6",
   "metadata": {},
   "outputs": [],
   "source": [
    "iris = load_iris()"
   ]
  },
  {
   "cell_type": "markdown",
   "id": "80c00daf",
   "metadata": {},
   "source": [
    "Then we split our data to train and test samples"
   ]
  },
  {
   "cell_type": "code",
   "execution_count": null,
   "id": "e8381c9d",
   "metadata": {},
   "outputs": [],
   "source": [
    "x, y = iris.data, iris.target\n",
    "    \n",
    "train = random.sample(range(0,150),int(0.8*x.shape[0]))\n",
    "test = list(set(range(0,150))-set(train))# by substraction operation on sets of values we leave 20% of data to test\n",
    "\n",
    "x_train, y_train, x_test, y_test = x[train], y[train], x[test], y[test]"
   ]
  },
  {
   "cell_type": "code",
   "execution_count": null,
   "id": "85aaad58",
   "metadata": {},
   "outputs": [
    {
     "data": {
      "text/plain": [
       "120"
      ]
     },
     "metadata": {},
     "output_type": "display_data"
    }
   ],
   "source": [
    "int(0.8*x.shape[0])"
   ]
  },
  {
   "cell_type": "markdown",
   "id": "f486cdfc",
   "metadata": {},
   "source": [
    "Value of the above expression is 120, that is for train data. It follows that we have 30 rows for testing"
   ]
  },
  {
   "cell_type": "code",
   "execution_count": null,
   "id": "cc723548",
   "metadata": {},
   "outputs": [],
   "source": [
    "def log_reg(x_train, x_test, y_train, y_test):\n",
    "    train_samp, d = x_train.shape #set train sample size to 120 with d = 4\n",
    "    test_samp = x_test.shape[0] #set test sample size to 30\n",
    "\n",
    "    train = random.sample(range(0,120),120)#randomize sample for training with 80% of data\n",
    "    test = random.sample(range(0,30),30) #randomize sample for testing with 30% of data\n",
    "\n",
    "    T, lr = 2000, 0.0001# set number of iterations to 2000 and learning rate to 0.0001\n",
    "\n",
    "    w = np.zeros(d+1) #initialize w(0) with all zeros\n",
    "\n",
    "    E_in= [] #initialize list\n",
    "    E_test = [] #initialize list\n",
    "\n",
    "    #iterate 2000 times\n",
    "    for iteration in range(T):\n",
    "        error_samp, error_tests = 0, 0 #set train and test errors to 0 at the beginning of each iteration\n",
    "\n",
    "        for i in train:\n",
    "            ex_train = np.append(x_train[i], 1) #append row to train\n",
    "            w += lr * np.log(1+np.exp(-y_train[i]*2*np.dot(w.T, ex_train))) #update weight\n",
    "            error_samp += np.log(1+np.exp(-y_train[i]*2*np.dot(w.T, ex_train))) #find cross entropy error\n",
    "        E_in.append(error_samp / train_samp) #append average value to in error\n",
    "\n",
    "        for i in test:\n",
    "            ex_test = np.append(x_test[i],1) #append row to test\n",
    "            error_tests += np.log(1+np.exp(-y_test[i]*2*np.dot(w.T, ex_test))) #find cross entropy error\n",
    "        E_test.append(error_tests / test_samp) #append average value to test error\n",
    "    \n",
    "    return error_tests / test_samp\n"
   ]
  },
  {
   "cell_type": "code",
   "execution_count": null,
   "id": "00a472f5",
   "metadata": {},
   "outputs": [
    {
     "data": {
      "image/png": "[encoded data removed]",
      "text/plain": [
       "<Figure size 432x288 with 1 Axes>"
      ]
     },
     "metadata": {},
     "output_type": "display_data"
    }
   ],
   "source": [
    "plt.plot(range(T), E_in, label='Training', color= 'red')\n",
    "plt.plot(range(T), E_test, label='Testing', color= 'blue')\n",
    "plt.title(\"Training and Testing errors on Iteration number vs Error graph\\nFor 2000 iterations\", loc = 'center')\n",
    "plt.legend(loc = 0)\n",
    "plt.show()"
   ]
  },
  {
   "cell_type": "code",
   "execution_count": null,
   "id": "5a899d1d",
   "metadata": {},
   "outputs": [
    {
     "data": {
      "image/png": "[encoded data removed]",
      "text/plain": [
       "<Figure size 432x288 with 1 Axes>"
      ]
     },
     "metadata": {},
     "output_type": "display_data"
    }
   ],
   "source": [
    "plt.plot(range(100), E_in[:100], label='Training', color= 'red')\n",
    "plt.plot(range(100), E_test[:100], label='Testing', color= 'blue')\n",
    "plt.title(\"Training and Testing error on Iteration number vs Error graph\\ For 100 iterations\", loc = 'center')\n",
    "plt.legend(loc = 0)\n",
    "plt.show()"
   ]
  },
  {
   "cell_type": "markdown",
   "id": "a3b15a69",
   "metadata": {},
   "source": [
    "After the training of the model, we have plotted a graph with the training and testing error's value of each iteration. We see that our function performs equally on a small number of iterations but better on larger values.\n",
    "\n",
    "We were interested in a clearer picture of error values at the small number of iterations. That is why we have plotted values up to 100. On first iterations, our regression even performs better on testing data, but after some value approximately close to 5, the testing error is higher than training one, this continues to be seen, and on values greater than 100"
   ]
  },
  {
   "cell_type": "code",
   "execution_count": null,
   "id": "25c9eeef",
   "metadata": {},
   "outputs": [],
   "source": []
  },
  {
   "cell_type": "markdown",
   "id": "d56f7bd7",
   "metadata": {},
   "source": [
    "# <center>Task 3. Practical design of a learning algorithm"
   ]
  },
  {
   "cell_type": "code",
   "execution_count": null,
   "id": "d764bee9",
   "metadata": {},
   "outputs": [],
   "source": [
    "import numpy as np\n",
    "import pandas as pd\n",
    "import seaborn as sns\n",
    "from matplotlib import pyplot as plt\n",
    "from sklearn.model_selection import GridSearchCV\n",
    "from sklearn.model_selection import cross_val_score, train_test_split\n",
    "from sklearn.linear_model import LinearRegression, LogisticRegression\n",
    "from sklearn.metrics import accuracy_score, confusion_matrix\n",
    "from sklearn.model_selection import validation_curve\n",
    "import warnings\n",
    "warnings.filterwarnings(\"ignore\")"
   ]
  },
  {
   "cell_type": "code",
   "execution_count": null,
   "id": "48f6900a",
   "metadata": {},
   "outputs": [],
   "source": [
    "import random"
   ]
  },
  {
   "cell_type": "code",
   "execution_count": null,
   "id": "65054b10",
   "metadata": {},
   "outputs": [],
   "source": [
    "linreg_model = LinearRegression()\n",
    "logreg_model = LogisticRegression()"
   ]
  },
  {
   "cell_type": "markdown",
   "id": "edbbcb6f",
   "metadata": {},
   "source": [
    "\n",
    "**Load Optical Recognition of Handwritten Digits Data Set**"
   ]
  },
  {
   "cell_type": "code",
   "execution_count": null,
   "id": "ee350693",
   "metadata": {},
   "outputs": [],
   "source": [
    "from sklearn import datasets\n",
    "digits = datasets.load_digits()\n"
   ]
  },
  {
   "cell_type": "code",
   "execution_count": null,
   "id": "315ec3f3",
   "metadata": {},
   "outputs": [
    {
     "data": {
      "text/plain": [
       "dict_keys(['data', 'target', 'frame', 'feature_names', 'target_names', 'images', 'DESCR'])"
      ]
     },
     "metadata": {},
     "output_type": "display_data"
    }
   ],
   "source": [
    "digits.keys()"
   ]
  },
  {
   "cell_type": "code",
   "execution_count": null,
   "id": "ea6347b4",
   "metadata": {},
   "outputs": [],
   "source": [
    "n_samples, n_features = digits.data.shape\n"
   ]
  },
  {
   "cell_type": "code",
   "execution_count": null,
   "id": "74e7d012",
   "metadata": {
    "scrolled": true
   },
   "outputs": [
    {
     "data": {
      "text/plain": [
       "array([178, 182, 177, 183, 181, 182, 181, 179, 174, 180], dtype=int64)"
      ]
     },
     "metadata": {},
     "output_type": "display_data"
    }
   ],
   "source": [
    "np.bincount(digits.target)"
   ]
  },
  {
   "cell_type": "code",
   "execution_count": null,
   "id": "4327d678",
   "metadata": {},
   "outputs": [],
   "source": [
    "X = digits.data\n",
    "y = digits.target"
   ]
  },
  {
   "cell_type": "code",
   "execution_count": null,
   "id": "69afc7d2",
   "metadata": {
    "scrolled": true
   },
   "outputs": [
    {
     "data": {
      "image/png": "[encoded data removed]",
      "text/plain": [
       "<Figure size 1152x432 with 10 Axes>"
      ]
     },
     "metadata": {},
     "output_type": "display_data"
    }
   ],
   "source": [
    "plt.figure(figsize=(16, 6))\n",
    "for i in range(10):\n",
    "    plt.subplot(2, 5, i + 1)\n",
    "    plt.imshow(X[i,:].reshape([8,8]), cmap='gray');"
   ]
  },
  {
   "cell_type": "markdown",
   "id": "b09eeaa4",
   "metadata": {},
   "source": [
    "**Using the Linear & Logistic Regression coded in Section 1 and 2 implement a routine that uses tenfold cross validation for model selection on digits dataset.**"
   ]
  },
  {
   "cell_type": "code",
   "execution_count": null,
   "id": "a12cafd4",
   "metadata": {},
   "outputs": [
    {
     "data": {
      "text/plain": [
       "array([0, 1, 2, ..., 8, 9, 8])"
      ]
     },
     "metadata": {},
     "output_type": "display_data"
    }
   ],
   "source": [
    "y"
   ]
  },
  {
   "cell_type": "markdown",
   "id": "2bccec70",
   "metadata": {},
   "source": [
    "To avoid the problem where one fold would have only one class to recognize, we would shuffle our data"
   ]
  },
  {
   "cell_type": "code",
   "execution_count": null,
   "id": "1e27defb",
   "metadata": {},
   "outputs": [
    {
     "name": "stdout",
     "output_type": "stream",
     "text": [
      "[2 2 3 ... 0 6 6]\n"
     ]
    }
   ],
   "source": [
    "import numpy as np\n",
    "rng = np.random.RandomState(0)\n",
    "\n",
    "permutation = rng.permutation(len(X))\n",
    "X, y = X[permutation], y[permutation]\n",
    "print(y)"
   ]
  },
  {
   "cell_type": "markdown",
   "id": "8859e8c3",
   "metadata": {},
   "source": [
    "For the following step, we would implement cross-validation, but first of all we will impelement our Linear/Logistic Regression models.\n"
   ]
  },
  {
   "cell_type": "code",
   "execution_count": null,
   "id": "450ce804",
   "metadata": {},
   "outputs": [],
   "source": [
    "def linear_regression(x,y):\n",
    "    yn = y.reshape(len(y), 1)\n",
    "    inv_mat = np.linalg.pinv(np.dot(x.T, x))\n",
    "    x_inv = np.dot(inv_mat, x.T)\n",
    "    w_lin = np.dot(x_inv, yn)\n",
    "    return w_lin"
   ]
  },
  {
   "cell_type": "code",
   "execution_count": null,
   "id": "d866d87e",
   "metadata": {},
   "outputs": [],
   "source": [
    "def log_reg(x_train, y_train, x_test, y_test):\n",
    "    train_samp, d = x_train.shape #set train sample size to 120 with d = 4\n",
    "    test_samp = x_test.shape[0] #set test sample size to 30\n",
    "\n",
    "    train = random.sample(range(0,120),120)#randomize sample for training with 80% of data\n",
    "    test = random.sample(range(0,30),30) #randomize sample for testing with 30% of data\n",
    "\n",
    "    T, lr = 50, 0.0001# set number of iterations to 50 and learning rate to 0.0001\n",
    "\n",
    "    w = np.zeros(d+1) #initialize w(0) with all zeros\n",
    "\n",
    "    E_in= [] #initialize list\n",
    "    E_test = [] #initialize list\n",
    "\n",
    "    #iterate 2000 times\n",
    "    for iteration in range(T):\n",
    "        error_samp, error_tests = 0, 0 #set train and test errors to 0 at the beginning of each iteration\n",
    "        for i in train:\n",
    "            ex_train = np.append(x_train[i], 1) #append row to train\n",
    "            w += lr * np.log(1+np.exp(-y_train[i]*2*np.dot(w.T, ex_train))) #update weight\n",
    "            error_samp += np.log(1+np.exp(-y_train[i]*2*np.dot(w.T, ex_train))) #find cross entropy error\n",
    "        E_in.append(error_samp / train_samp) #append average value to in error\n",
    "\n",
    "        for i in test:\n",
    "            ex_test = np.append(x_test[i],1) #append row to test\n",
    "            error_tests += np.log(1+np.exp(-y_test[i]*2*np.dot(w.T, ex_test))) #find cross entropy error\n",
    "        E_test.append(error_tests / test_samp) #append average value to test error\n",
    "            \n",
    "    \n",
    "    return error_tests / test_samp\n",
    "    \n",
    "    "
   ]
  },
  {
   "cell_type": "markdown",
   "id": "6ba80c7e",
   "metadata": {},
   "source": [
    "We would create Xnew matrix, where will be added new column consisting from ones i.e intercept of a linear function."
   ]
  },
  {
   "cell_type": "code",
   "execution_count": null,
   "id": "ca3cc216",
   "metadata": {},
   "outputs": [],
   "source": [
    "n,m = X.shape\n",
    "X0 = np.ones((n,1))\n",
    "Xnew = np.hstack((X0, X))"
   ]
  },
  {
   "cell_type": "code",
   "execution_count": null,
   "id": "bdc61443",
   "metadata": {},
   "outputs": [
    {
     "data": {
      "text/plain": [
       "3.2956107093706577"
      ]
     },
     "metadata": {},
     "output_type": "display_data"
    }
   ],
   "source": [
    "w = linear_regression(Xnew,y)\n",
    "y_pred = np.dot(Xnew, w)\n",
    "MSE = np.square(np.subtract(y_pred,y.reshape(len(y), 1))).mean()\n",
    "MSE"
   ]
  },
  {
   "cell_type": "markdown",
   "id": "20d8968d",
   "metadata": {},
   "source": [
    "Checking the error approximation by repeating the same process by Scikit-learn package"
   ]
  },
  {
   "cell_type": "code",
   "execution_count": null,
   "id": "eb35d5ca",
   "metadata": {},
   "outputs": [
    {
     "data": {
      "text/plain": [
       "3.2956107093706577"
      ]
     },
     "metadata": {},
     "output_type": "display_data"
    }
   ],
   "source": [
    "linreg_model.fit(Xnew, y)\n",
    "y_pred_skl = linreg_model.predict(Xnew)\n",
    "MSE_skl = np.square(np.subtract(y_pred_skl,y)).mean()\n",
    "MSE_skl"
   ]
  },
  {
   "cell_type": "code",
   "execution_count": null,
   "id": "363fa6f6",
   "metadata": {},
   "outputs": [],
   "source": [
    "def cross_val_linreg(X, y, n_folds):\n",
    "    \n",
    "    n_samples = len(X)\n",
    "    fold_size = n_samples // n_folds\n",
    "    errors = []\n",
    "    \n",
    "    for fold in range(n_folds):\n",
    "        \n",
    "        test_mask = np.zeros(n_samples, dtype=bool)\n",
    "        test_mask[fold * fold_size : (fold + 1) * fold_size] = True\n",
    "        X_test, y_test = X[test_mask], y[test_mask]\n",
    "        X_train, y_train = X[~test_mask], y[~test_mask]\n",
    "    \n",
    "        w = linear_regression(X_train, y_train)\n",
    "        y_test = y_test.reshape(len(y_test), 1)\n",
    "        \n",
    "    # compute the Mean Squared Error and record it\n",
    "        y_pred = np.dot(X_test, w)\n",
    "        MSE = np.square(np.subtract(y_pred,y_test)).mean()\n",
    "        errors.append(MSE)\n",
    "        \n",
    "    return np.mean(errors)\n",
    "    "
   ]
  },
  {
   "cell_type": "code",
   "execution_count": null,
   "id": "297e028b",
   "metadata": {},
   "outputs": [],
   "source": [
    "def cross_val_logreg(X, y, n_folds):\n",
    "    \n",
    "    n_samples = len(X)\n",
    "    fold_size = n_samples // n_folds\n",
    "    errors = []\n",
    "    \n",
    "    for fold in range(n_folds):\n",
    "        \n",
    "        test_mask = np.zeros(n_samples, dtype=bool)\n",
    "        test_mask[fold * fold_size : (fold + 1) * fold_size] = True\n",
    "    \n",
    "        X_test, y_test = X[test_mask], y[test_mask]\n",
    "        X_train, y_train = X[~test_mask], y[~test_mask]\n",
    "        \n",
    "        errors.append(log_reg(X_train, y_train, X_test, y_test))\n",
    "        \n",
    "    return np.mean(errors)"
   ]
  },
  {
   "cell_type": "code",
   "execution_count": null,
   "id": "a6507b79",
   "metadata": {},
   "outputs": [],
   "source": [
    "d = {'n_folds = 5 ': [cross_val_linreg(Xnew, y, 5), cross_val_logreg(X, y, 5)] ,\n",
    "     'n_folds = 10': [cross_val_linreg(Xnew, y, 10), cross_val_logreg(X, y, 10)],\n",
    "     'n_folds = 20': [cross_val_linreg(Xnew, y, 20), cross_val_logreg(X, y, 20)],\n",
    "     'n_folds = loocv': [cross_val_linreg(Xnew, y, len(X)), np.nan]}"
   ]
  },
  {
   "cell_type": "code",
   "execution_count": null,
   "id": "78c1d5d0",
   "metadata": {},
   "outputs": [],
   "source": [
    "df = pd.DataFrame(d)"
   ]
  },
  {
   "cell_type": "code",
   "execution_count": null,
   "id": "4afde1c4",
   "metadata": {},
   "outputs": [],
   "source": [
    "df['model'] = ['Linear Regression', 'Logistic Regression']"
   ]
  },
  {
   "cell_type": "code",
   "execution_count": null,
   "id": "b7197909",
   "metadata": {},
   "outputs": [],
   "source": [
    "df.set_index('model', inplace = True)"
   ]
  },
  {
   "cell_type": "code",
   "execution_count": null,
   "id": "47180afb",
   "metadata": {
    "scrolled": true
   },
   "outputs": [
    {
     "data": {
      "text/html": [
       "<div>\n",
       "<style scoped>\n",
       "    .dataframe tbody tr th:only-of-type {\n",
       "        vertical-align: middle;\n",
       "    }\n",
       "\n",
       "    .dataframe tbody tr th {\n",
       "        vertical-align: top;\n",
       "    }\n",
       "\n",
       "    .dataframe thead th {\n",
       "        text-align: right;\n",
       "    }\n",
       "</style>\n",
       "<table border=\"1\" class=\"dataframe\">\n",
       "  <thead>\n",
       "    <tr style=\"text-align: right;\">\n",
       "      <th></th>\n",
       "      <th>n_folds = 5</th>\n",
       "      <th>n_folds = 10</th>\n",
       "      <th>n_folds = 20</th>\n",
       "      <th>n_folds = loocv</th>\n",
       "    </tr>\n",
       "    <tr>\n",
       "      <th>model</th>\n",
       "      <th></th>\n",
       "      <th></th>\n",
       "      <th></th>\n",
       "      <th></th>\n",
       "    </tr>\n",
       "  </thead>\n",
       "  <tbody>\n",
       "    <tr>\n",
       "      <th>Linear Regression</th>\n",
       "      <td>3.577716</td>\n",
       "      <td>3.556134</td>\n",
       "      <td>3.542497</td>\n",
       "      <td>3.528578</td>\n",
       "    </tr>\n",
       "    <tr>\n",
       "      <th>Logistic Regression</th>\n",
       "      <td>0.005020</td>\n",
       "      <td>0.008906</td>\n",
       "      <td>0.017913</td>\n",
       "      <td>NaN</td>\n",
       "    </tr>\n",
       "  </tbody>\n",
       "</table>\n",
       "</div>"
      ],
      "text/plain": [
       "                     n_folds = 5   n_folds = 10  n_folds = 20  n_folds = loocv\n",
       "model                                                                         \n",
       "Linear Regression        3.577716      3.556134      3.542497         3.528578\n",
       "Logistic Regression      0.005020      0.008906      0.017913              NaN"
      ]
     },
     "metadata": {},
     "output_type": "display_data"
    }
   ],
   "source": [
    "df"
   ]
  },
  {
   "cell_type": "markdown",
   "id": "de0e2808",
   "metadata": {},
   "source": [
    "**The main problem that I failed to solve was making a leave-one-out cross-validation with Logistic Regression, as it requires too much computational power and our algorithm was not optimized properly for the “loocv”.**"
   ]
  },
  {
   "cell_type": "markdown",
   "id": "06a6648c",
   "metadata": {},
   "source": [
    "**Generalization Error**\n",
    "\n",
    "Linear Regression-> We used MSE metrics\n",
    "\n",
    "Logistic Regression-> We used cross-entropy error"
   ]
  },
  {
   "cell_type": "code",
   "execution_count": null,
   "id": "884f112d",
   "metadata": {},
   "outputs": [
    {
     "data": {
      "image/png": "[encoded data removed]",
      "text/plain": [
       "<Figure size 432x288 with 1 Axes>"
      ]
     },
     "metadata": {},
     "output_type": "display_data"
    }
   ],
   "source": [
    "fig=plt.figure()\n",
    "fig.show()\n",
    "ax=fig.add_subplot(111)\n",
    "\n",
    "ax.plot(df.loc['Linear Regression'],c='b',marker=\"^\",ls='--',label='Linear Regression',fillstyle='none')\n",
    "ax.plot(df.loc['Logistic Regression'],c='g',marker=(8,2,0),ls='--',label='Logistic Regression')\n",
    "\n",
    "\n",
    "plt.legend(loc='best')\n",
    "plt.draw()"
   ]
  },
  {
   "cell_type": "markdown",
   "id": "dd3daec4",
   "metadata": {},
   "source": [
    "Here, we can see that changing the number of folds in cross-validation in the preiod of [5 ,20] does not affect the generalization error measure of both models. So it is better for us to use just use 5-fold cv, because the higher number of folds for cross-validation requires more computation power. Overall, we can see that Logistic Regression has significantly better accuracy than Linear Regression at classifying the digits dataset."
   ]
  },
  {
   "cell_type": "markdown",
   "id": "492e8042",
   "metadata": {},
   "source": [
    "The appliance of Linear Regression to multiclass classification sacrifices the principled and probabilistic way which is used in multinomial logistic regression. It also can be said that the squared error is an odd choice for classification problems, where we're predicting binary values. The problem is that the squared error penalizes large outputs{0,1,2,3,4,5,6,7,8,9}, even when these ought to be considered correct."
   ]
  },
  {
   "cell_type": "markdown",
   "id": "8d95ff46",
   "metadata": {},
   "source": [
    "**Perform GridSearchCV based tenfold cross-validation using the Scikit-learn module and compare the performance of Linear and Logistic regression on digits dataset**\n",
    "\n",
    "**For each model, plot the validation curves using Scikit-Learn to justify your selection of a final model. Explain how you addressed the bias-variance tradeoff and that your model has not overfitted the digits dataset.**"
   ]
  },
  {
   "cell_type": "markdown",
   "id": "cb3b603a",
   "metadata": {},
   "source": [
    "### <center> GridSearchCV implementation with Linear Regression (using Lasso and Ridge regularization techniques)."
   ]
  },
  {
   "cell_type": "markdown",
   "id": "656d3b8c",
   "metadata": {},
   "source": [
    "To remedy overtting, we will decrease the model complexity by implementing Regularizations techniques.That will be done via Scikit-Learn GridSearchCV() function, where we will tune the alpha hyperparameter.The GridSearchCV will be based on tenfold cross-validation."
   ]
  },
  {
   "cell_type": "code",
   "execution_count": null,
   "id": "0ca68c7b",
   "metadata": {},
   "outputs": [],
   "source": [
    "from sklearn.model_selection import GridSearchCV\n",
    "\n",
    "from sklearn.linear_model import Lasso, Ridge"
   ]
  },
  {
   "cell_type": "markdown",
   "id": "11f52e35",
   "metadata": {},
   "source": [
    "**Case - 1: Lasso Regression**"
   ]
  },
  {
   "cell_type": "markdown",
   "id": "322186db",
   "metadata": {},
   "source": [
    "Lasso(Least Absolute Shrinkage and Selection Operator) can pick relevant features that will be useful for modelling. Lasso also has the shrinkage parametre but the difference that has with Ridge is that there is no squared term of the estimated coefficient but only an absolute value. Hence, much like best subset selection, the lasso performs feature selection."
   ]
  },
  {
   "cell_type": "code",
   "execution_count": null,
   "id": "bf2a57ce",
   "metadata": {},
   "outputs": [
    {
     "data": {
      "text/plain": [
       "({'alpha': 0.01}, 0.5661778295170125)"
      ]
     },
     "metadata": {},
     "output_type": "display_data"
    }
   ],
   "source": [
    "grid_linreg_l1 = GridSearchCV(Lasso(),param_grid = {'alpha': np.logspace(-7, 3, 3)}, cv=10)\n",
    "grid_linreg_l1.fit(X, y)\n",
    "grid_linreg_l1.best_params_, grid_linreg_l1.best_score_"
   ]
  },
  {
   "cell_type": "code",
   "execution_count": null,
   "id": "8ce090e2",
   "metadata": {},
   "outputs": [
    {
     "data": {
      "text/plain": [
       "array([[0.59365803, 0.59100819, 0.60124138, 0.60213544, 0.59800907,\n",
       "        0.59835298, 0.60394027, 0.60736041, 0.60404043, 0.59832443],\n",
       "       [0.58977305, 0.58740037, 0.59799044, 0.59805903, 0.59372936,\n",
       "        0.5941044 , 0.60048127, 0.60349421, 0.59983124, 0.59415814],\n",
       "       [0.        , 0.        , 0.        , 0.        , 0.        ,\n",
       "        0.        , 0.        , 0.        , 0.        , 0.        ]])"
      ]
     },
     "metadata": {},
     "output_type": "display_data"
    }
   ],
   "source": [
    "val_train, val_test = validation_curve(Lasso(), X, y, param_name=\"alpha\", param_range=np.logspace(-7, 3, 3) , cv = 10)\n",
    "val_train"
   ]
  },
  {
   "cell_type": "markdown",
   "id": "f0afb811",
   "metadata": {},
   "source": [
    "Validation curve is a graph showing the results on training and validation sets depending on the complexity of the model. In our case the complexity of model is a reverse of alpha"
   ]
  },
  {
   "cell_type": "code",
   "execution_count": null,
   "id": "b609c5df",
   "metadata": {},
   "outputs": [
    {
     "data": {
      "image/png": "[encoded data removed]",
      "text/plain": [
       "<Figure size 432x288 with 1 Axes>"
      ]
     },
     "metadata": {},
     "output_type": "display_data"
    }
   ],
   "source": [
    "def plot_with_err(x, data, **kwargs):\n",
    "    mu, std = data.mean(1), data.std(1)\n",
    "    lines = plt.plot(x, mu, \"-\", **kwargs)\n",
    "    plt.fill_between(\n",
    "        x,\n",
    "        mu - std,\n",
    "        mu + std,\n",
    "        edgecolor=\"none\",\n",
    "        facecolor=lines[0].get_color(),\n",
    "        alpha=0.2,\n",
    "    )\n",
    "\n",
    "plot_with_err(np.logspace(-7, 3, 3), val_train, label=\"training scores\")\n",
    "plot_with_err(np.logspace(-7, 3, 3), val_test, label=\"validation scores\")\n",
    "plt.xlabel(r\"$\\alpha$\")\n",
    "plt.ylabel(\"Accuracy\")\n",
    "plt.legend();"
   ]
  },
  {
   "cell_type": "markdown",
   "id": "5221dedb",
   "metadata": {},
   "source": [
    "Basiclly, Lasso saves us from overfitting by regularizing the estimates towards zero, then the effect of the non- impactful features is reduced and it saves the model from high variance with more stable fit. And it  is done by modifying our typical loss function  by adding a penalty for higher magnitude coefficient values. Here we can see as the regularization paramater(alpha) increasing, the accuracy of the Lasso model is decresing and two trends(validation and training scores) are close to each other, which means that our model is underfitting.\n",
    "\n",
    "Model Overfitting happens when the trainig score is high and the validation score is low, however, in our case, with the parameter alpha = 0.01 Lasso model gives adequate results i.e both trends have a normal score -> 0.5661778295170125\n"
   ]
  },
  {
   "cell_type": "markdown",
   "id": "1ff0bb5f",
   "metadata": {},
   "source": [
    "**Case - 2: Ridge Regression**"
   ]
  },
  {
   "cell_type": "markdown",
   "id": "0b47b8d6",
   "metadata": {},
   "source": [
    "Ridge Regression has almost the same process of regularizing the weights, but the difference is the appliance of l2-norm adn the problem it resolves. In other words, while Lasso resolves the feature selection problem by assigning some coefficient(not relevent features) to zero, the ridge regression will shrink all of the coefficients towards zero, but it will not set any of them exactly to zero (unless alpha = ∞), and it solves the problem of multicollinearity."
   ]
  },
  {
   "cell_type": "code",
   "execution_count": null,
   "id": "9e5578de",
   "metadata": {},
   "outputs": [
    {
     "data": {
      "text/plain": [
       "({'alpha': 1000.0}, 0.5665559365436942)"
      ]
     },
     "metadata": {},
     "output_type": "display_data"
    }
   ],
   "source": [
    "grid_linreg_l2 = GridSearchCV(Ridge(),param_grid = {'alpha': np.logspace(-7, 3, 3)}, cv=10)\n",
    "grid_linreg_l2.fit(X, y)\n",
    "grid_linreg_l2.best_params_, grid_linreg_l2.best_score_"
   ]
  },
  {
   "cell_type": "code",
   "execution_count": null,
   "id": "a60d57fa",
   "metadata": {},
   "outputs": [],
   "source": [
    "val_train, val_test = validation_curve(Ridge(), X, y,  param_name=\"alpha\", param_range=np.logspace(-7, 3, 3) , cv = 10)"
   ]
  },
  {
   "cell_type": "code",
   "execution_count": null,
   "id": "b1e74701",
   "metadata": {
    "scrolled": true
   },
   "outputs": [
    {
     "data": {
      "image/png": "[encoded data removed]",
      "text/plain": [
       "<Figure size 432x288 with 1 Axes>"
      ]
     },
     "metadata": {},
     "output_type": "display_data"
    }
   ],
   "source": [
    "plot_with_err(np.logspace(-7, 3, 3), val_train, label=\"training scores\")\n",
    "plot_with_err(np.logspace(-7, 3, 3), val_test, label=\"validation scores\")\n",
    "plt.xlabel(r\"$\\alpha$\")\n",
    "plt.ylabel(\"Accuracy\")\n",
    "plt.legend();"
   ]
  },
  {
   "cell_type": "markdown",
   "id": "30f2ae29",
   "metadata": {},
   "source": [
    "It can be said that, if alpha → ∞, the impact of shrinkage penalty increases and the ridge regression estimate coefficients will approach to zero. In the Ridge Regression, as aplha increases, the flexibility of the ridge regression fit decreases, leading to decreased variance but increased bias.As we can see on the validation curve plot, the Ridge regression yields relatively normal accuracy of both trends with the alpha = 1000 and the accuracy result is 0.5665559365436942.So there is no problem with overfitting or underfitting.\n",
    " "
   ]
  },
  {
   "cell_type": "markdown",
   "id": "58462fff",
   "metadata": {},
   "source": [
    "### <center> GridSearchCV implementation with Logistic Regression."
   ]
  },
  {
   "cell_type": "markdown",
   "id": "02d15486",
   "metadata": {},
   "source": [
    "Logistic regression is not able to learn what value of $C$ to choose. It can not be solve by the optimization problem. Hence, $C$ is the a model hyperparameter that is tuned on GridSearchCV."
   ]
  },
  {
   "cell_type": "code",
   "execution_count": null,
   "id": "c704181d",
   "metadata": {},
   "outputs": [
    {
     "data": {
      "text/plain": [
       "GridSearchCV(cv=10, estimator=LogisticRegression(), n_jobs=-1,\n",
       "             param_grid={'C': array([1.00000000e-05, 2.51188643e-04, 6.30957344e-03, 1.58489319e-01,\n",
       "       3.98107171e+00, 1.00000000e+02])},\n",
       "             return_train_score=True)"
      ]
     },
     "metadata": {},
     "output_type": "display_data"
    }
   ],
   "source": [
    "from sklearn.model_selection import GridSearchCV\n",
    "\n",
    "grid_logreg = GridSearchCV(logreg_model, param_grid ={'C': np.logspace(-5, 2, 6)} , return_train_score=True, cv=10, n_jobs=-1)\n",
    "\n",
    "grid_logreg.fit(X, y)"
   ]
  },
  {
   "cell_type": "code",
   "execution_count": null,
   "id": "ab311925",
   "metadata": {},
   "outputs": [
    {
     "data": {
      "text/plain": [
       "({'C': 0.00630957344480193}, 0.9710552451893234)"
      ]
     },
     "metadata": {},
     "output_type": "display_data"
    }
   ],
   "source": [
    "grid_logreg.best_params_, grid_logreg.best_score_"
   ]
  },
  {
   "cell_type": "code",
   "execution_count": null,
   "id": "f89885d2",
   "metadata": {},
   "outputs": [],
   "source": [
    "val_train, val_test = validation_curve( logreg_model, X, y, \"C\", np.logspace(-5, 2, 6), cv=10, scoring=\"accuracy\")"
   ]
  },
  {
   "cell_type": "code",
   "execution_count": null,
   "id": "e4007481",
   "metadata": {},
   "outputs": [
    {
     "data": {
      "image/png": "[encoded data removed]",
      "text/plain": [
       "<Figure size 432x288 with 1 Axes>"
      ]
     },
     "metadata": {},
     "output_type": "display_data"
    }
   ],
   "source": [
    "plot_with_err(np.logspace(-5, 2, 6), val_train, label=\"training scores\")\n",
    "plot_with_err(np.logspace(-5, 2, 6), val_test, label=\"validation scores\")\n",
    "plt.xlabel(\"C\")\n",
    "plt.ylabel(\"Accuracy\")\n",
    "plt.legend();"
   ]
  },
  {
   "cell_type": "markdown",
   "id": "43725f7d",
   "metadata": {},
   "source": [
    "$$\\large J(X,y,w) = \\mathcal{L} + \\frac{1}{C}||w||^2,$$\n",
    "\n",
    "where\n",
    "\n",
    "- $\\mathcal{L}$ is the logistic loss function \n",
    "- $C$ is the reverse regularization coefficient "
   ]
  },
  {
   "cell_type": "markdown",
   "id": "7524c7d3",
   "metadata": {},
   "source": [
    "Here we can say that $C$ corresponds to Complexity of a model.\n",
    "\n",
    "- if $C$ is small-> regularization is strong-> model will underfit. And on the validation curve graph we can see that indeed at smaller valuse of C, our model underfitting, because both trends has low accuracy and too close to each other.\n",
    "\n",
    "- if $C$ is large-> regularization is weak -> model will overfit. And on the validation curve graph we can see that at higher valuse of C, our model is not overfitting because both trends show relatively good accuracy scores.\n",
    "\n",
    "To conclude Logistic Regression has the best accuracy score(0.9710552451893234) by setting the hyperparameter $C$ = 0.00630957344480193.\n",
    "\n",
    "\n"
   ]
  }
 ],
 "metadata": {
  "colab": {
   "name": "task1.ipynb",
   "provenance": []
  },
  "kernelspec": {
   "display_name": "Python 3",
   "language": "python",
   "name": "python3"
  },
  "language_info": {
   "codemirror_mode": {
    "name": "ipython",
    "version": 3
   },
   "file_extension": ".py",
   "mimetype": "text/x-python",
   "name": "python",
   "nbconvert_exporter": "python",
   "pygments_lexer": "ipython3",
   "version": "3.8.8"
  }
 },
 "nbformat": 4,
 "nbformat_minor": 1
}
